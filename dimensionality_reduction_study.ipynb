{
 "cells": [
  {
   "cell_type": "code",
   "execution_count": 1,
   "metadata": {},
   "outputs": [],
   "source": [
    "import os\n",
    "\n",
    "import numpy as np"
   ]
  },
  {
   "cell_type": "code",
   "execution_count": 2,
   "metadata": {},
   "outputs": [],
   "source": [
    "def load_embedding(folder, model) -> list[np.ndarray]:\n",
    "    if model == \"birdnet\":\n",
    "        # in this case the embedding is a text file for each audio\n",
    "        # the file is start_time \\t end_time \\t embedding \\n\n",
    "        # embedding is comma separated float values\n",
    "        # frames are 3s long (possibly configurable)\n",
    "        embeddings = []\n",
    "        for filename in sorted(os.listdir(folder)):\n",
    "            with open(os.path.join(folder, filename), \"r\") as f:\n",
    "                lines = f.readlines()\n",
    "            # first two els are start and end time\n",
    "            embedding = np.array([list(map(float, line.split(\"\\t\")[2].split(\",\"))) for line in lines])\n",
    "            embeddings.append(embedding)\n",
    "        return embeddings\n",
    "    if model == \"yamnet\":\n",
    "        # in this case the embedding is a numpy array \n",
    "        # (n_audios=64, max_n_frames=148, embedding_dim=1024)\n",
    "        # the padding value is 0, the frames are every 0.48 (probably)\n",
    "        filename = os.listdir(folder)[0]\n",
    "        embedding = np.load(os.path.join(folder, filename))\n",
    "        return [emb for emb in embedding]\n",
    "    if model == \"perch\":\n",
    "        pass\n",
    "    else:\n",
    "        raise ValueError(f\"Unknown pretrained model {model}\")"
   ]
  },
  {
   "cell_type": "code",
   "execution_count": 3,
   "metadata": {},
   "outputs": [
    {
     "data": {
      "text/plain": [
       "(64, (148, 1024))"
      ]
     },
     "execution_count": 3,
     "metadata": {},
     "output_type": "execute_result"
    }
   ],
   "source": [
    "l1 = load_embedding(\"data/embeddings/yamnet/granollers\", \"yamnet\")\n",
    "len(l1), l1[0].shape"
   ]
  },
  {
   "cell_type": "code",
   "execution_count": 4,
   "metadata": {},
   "outputs": [
    {
     "data": {
      "text/plain": [
       "(64, (8, 1024))"
      ]
     },
     "execution_count": 4,
     "metadata": {},
     "output_type": "execute_result"
    }
   ],
   "source": [
    "l2 = load_embedding(\"data/embeddings/birdnet/granollers\", \"birdnet\")\n",
    "len(l2), l2[0].shape"
   ]
  },
  {
   "cell_type": "code",
   "execution_count": 7,
   "metadata": {},
   "outputs": [],
   "source": [
    "embeddings_folder = \"data/embeddings\"\n",
    "\n",
    "emebddings_models = [\"birdnet\", \"yamnet\"] #, \"perch\"]\n",
    "datasets = [\"granollers\", \"sabadell\", \"sons_al_balco_2020\", \"sons_al_balco_2021\"]\n",
    "\n",
    "embeddings = {}\n",
    "for model in emebddings_models:\n",
    "    for dataset in datasets:\n",
    "        folder = os.path.join(embeddings_folder, model, dataset)\n",
    "        embedding = load_embedding(folder, model)\n",
    "        embeddings[(model, dataset)] = embedding"
   ]
  },
  {
   "cell_type": "code",
   "execution_count": 10,
   "metadata": {},
   "outputs": [
    {
     "data": {
      "text/plain": [
       "dict_keys([('birdnet', 'granollers'), ('birdnet', 'sabadell'), ('birdnet', 'sons_al_balco_2020'), ('birdnet', 'sons_al_balco_2021'), ('yamnet', 'granollers'), ('yamnet', 'sabadell'), ('yamnet', 'sons_al_balco_2020'), ('yamnet', 'sons_al_balco_2021')])"
      ]
     },
     "execution_count": 10,
     "metadata": {},
     "output_type": "execute_result"
    }
   ],
   "source": [
    "embeddings.keys()"
   ]
  },
  {
   "cell_type": "code",
   "execution_count": null,
   "metadata": {},
   "outputs": [],
   "source": [
    "from utils import create_frame_labels\n",
    "\n",
    "labels_2020 = create_frame_labels(labels_filename=os.path.join(\"data\", \"sons_al_balco_labels\", \"SAB-AudioTagging-2020.json\"))   \n",
    "labels_2021 = create_frame_labels(labels_filename=os.path.join(\"data\", \"sons_al_balco_labels\", \"SAB-AudioTagging-2021.json\"))\n",
    "# dictionaries {filename: {n_frame: list of labels}}\n",
    "\n",
    "labels_2020"
   ]
  },
  {
   "cell_type": "markdown",
   "metadata": {},
   "source": [
    "Let's select only the frames with a label"
   ]
  },
  {
   "cell_type": "code",
   "execution_count": null,
   "metadata": {},
   "outputs": [],
   "source": [
    "lab_values = []\n",
    "for l_dict in labels_2020.values():\n",
    "  for el in l_dict.values():\n",
    "    lab_values.extend(el)\n",
    "for l_dict in labels_2021.values():\n",
    "  for el in l_dict.values():\n",
    "    lab_values.extend(el)\n",
    "\n",
    "lab_values = list(set(lab_values))  # list is to have idxs\n",
    "len(lab_values)"
   ]
  },
  {
   "cell_type": "code",
   "execution_count": null,
   "metadata": {},
   "outputs": [],
   "source": [
    "data_20 = []\n",
    "lab_20_arr = []\n",
    "for e, (filename, l_dict) in zip(embeddings[(\"yamnet\", \"sons_al_balco_2020\")], sorted(labels_2020.items())):\n",
    "  idx = sorted([frame_n for frame_n, l in l_dict.items() if len(l) > 0])\n",
    "  for i in idx:\n",
    "    for l in l_dict[i]:\n",
    "      data_20.append(e[i])\n",
    "      lab_20_arr.append(lab_values.index(l))\n",
    "\n",
    "data_20 = np.stack(data_20, axis=0)\n",
    "lab_20_arr = np.array(lab_20_arr)\n",
    "data_20.shape, lab_20_arr.shape"
   ]
  },
  {
   "cell_type": "code",
   "execution_count": null,
   "metadata": {},
   "outputs": [],
   "source": [
    "data_21 = []\n",
    "lab_21_arr = []\n",
    "for e, (filename, l_dict) in zip(embeddings[(\"yamnet\", \"sons_al_balco_2021\")], sorted(labels_2021.items())):\n",
    "  idx = sorted([frame_n for frame_n, l in l_dict.items() if len(l) > 0])\n",
    "  for i in idx:\n",
    "    for l in l_dict[i]:\n",
    "      data_21.append(e[i])\n",
    "      lab_21_arr.append(lab_values.index(l))\n",
    "\n",
    "data_21 = np.stack(data_21, axis=0)\n",
    "lab_21_arr = np.array(lab_21_arr)\n",
    "data_21.shape, lab_21_arr.shape"
   ]
  },
  {
   "cell_type": "markdown",
   "metadata": {},
   "source": [
    "Let's plot different embeddings (with different dimensionality reduction methods)"
   ]
  },
  {
   "cell_type": "code",
   "execution_count": null,
   "metadata": {},
   "outputs": [],
   "source": [
    "from sklearn.decomposition import PCA\n",
    "from sklearn.manifold import TSNE\n",
    "\n",
    "import matplotlib.pyplot as plt\n",
    "\n",
    "S = 3       # size of the points\n",
    "ALPHA = 0.6 # transparency\n",
    "\n",
    "# for tsne, first reduce n_dimension to 50 using PCA (suggested by sklearn)\n",
    "n_2020 = data_20.shape[0]\n",
    "data = np.concatenate([data_20, data_21])\n",
    "\n",
    "pca = PCA(n_components=50)\n",
    "pca_emb = pca.fit_transform(data)\n",
    "\n",
    "# default\n",
    "# tsne = TSNE(n_components=2, perplexity=30.0, early_exaggeration=12.0)\n",
    "\n",
    "perplexity = [15, 30, 45]\n",
    "early_exaggeration = [4, 12, 20]\n",
    "\n",
    "for p in perplexity:\n",
    "  for ea in early_exaggeration:\n",
    "    tsne = TSNE(n_components=2, perplexity=p, early_exaggeration=ea)\n",
    "\n",
    "    bidim_data = tsne.fit_transform(pca_emb)\n",
    "    bidim_sob_2020 = bidim_data[:n_2020, :]\n",
    "    bidim_sob_2021 = bidim_data[n_2020:, :]\n",
    "\n",
    "    # Create figure and axes\n",
    "    fig, axs = plt.subplots(1, 2, figsize=(12, 6))  # 1 row, 2 columns\n",
    "\n",
    "    # Plots\n",
    "    for i, lab in enumerate(lab_values):\n",
    "      # Plot for 2021\n",
    "      idx = lab_20_arr == i \n",
    "      axs[0].scatter(x=bidim_sob_2020[idx][:, 0], y=bidim_sob_2020[idx][:, 1], color=f'C{i}', label=lab, s=S, alpha=ALPHA)\n",
    "      axs[0].set_title(\"2020 Data\")\n",
    "\n",
    "      # Plot for 2021\n",
    "      idx = lab_21_arr == i\n",
    "      axs[1].scatter(x=bidim_sob_2021[idx][:, 0], y=bidim_sob_2021[idx][:, 1], color=f'C{i}', label=lab, s=S, alpha=ALPHA)\n",
    "      axs[1].set_title(\"2021 Data\")\n",
    "\n",
    "    # Overall title for the subplot\n",
    "    plt.suptitle(f\"Perp = {p}, Early ex = {ea}\")\n",
    "    # legend\n",
    "    #plt.legend()\n",
    "    # Adjust layout to prevent overlap of titles\n",
    "    plt.tight_layout()\n",
    "    # Show plot\n",
    "    plt.show()"
   ]
  },
  {
   "cell_type": "code",
   "execution_count": null,
   "metadata": {},
   "outputs": [],
   "source": [
    "import umap\n",
    "\n",
    "n_neighbors = [5, 15, 50] \n",
    "min_dist = [0.0, 0.1, 0.9]\n",
    "\n",
    "for nn in n_neighbors:\n",
    "  for md in min_dist:\n",
    "    reducer = umap.UMAP(n_neighbors=nn, min_dist=md)\n",
    "    bidim_data = reducer.fit_transform(pca_emb)\n",
    "    bidim_sob_2020 = bidim_data[:n_2020, :]\n",
    "    bidim_sob_2021 = bidim_data[n_2020:, :]\n",
    "\n",
    "    # Create figure and axes\n",
    "    fig, axs = plt.subplots(1, 2, figsize=(12, 6))  # 1 row, 2 columns\n",
    "\n",
    "    # Plots\n",
    "    for i, lab in enumerate(lab_values):\n",
    "      # Plot for 2021\n",
    "      idx = lab_20_arr == i \n",
    "      axs[0].scatter(x=bidim_sob_2020[idx][:, 0], y=bidim_sob_2020[idx][:, 1], color=f'C{i}', label=lab, s=S, alpha=ALPHA)\n",
    "      axs[0].set_title(\"2020 Data\")\n",
    "\n",
    "      # Plot for 2021\n",
    "      idx = lab_21_arr == i\n",
    "      axs[1].scatter(x=bidim_sob_2021[idx][:, 0], y=bidim_sob_2021[idx][:, 1], color=f'C{i}', label=lab, s=S, alpha=ALPHA)\n",
    "      axs[1].set_title(\"2021 Data\")\n",
    "\n",
    "    # Overall title for the subplot\n",
    "    plt.suptitle(f\"N neigh = {nn}, Min dist = {md}\")\n",
    "    # legend\n",
    "    #plt.legend()\n",
    "    # Adjust layout to prevent overlap of titles\n",
    "    plt.tight_layout()\n",
    "    # Show plot\n",
    "    plt.show()"
   ]
  }
 ],
 "metadata": {
  "kernelspec": {
   "display_name": "bcn_venv",
   "language": "python",
   "name": "python3"
  },
  "language_info": {
   "codemirror_mode": {
    "name": "ipython",
    "version": 3
   },
   "file_extension": ".py",
   "mimetype": "text/x-python",
   "name": "python",
   "nbconvert_exporter": "python",
   "pygments_lexer": "ipython3",
   "version": "3.10.12"
  }
 },
 "nbformat": 4,
 "nbformat_minor": 2
}
