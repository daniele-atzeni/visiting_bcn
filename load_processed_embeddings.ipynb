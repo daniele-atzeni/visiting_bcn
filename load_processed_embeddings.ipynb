{
 "cells": [
  {
   "cell_type": "code",
   "execution_count": 7,
   "metadata": {},
   "outputs": [],
   "source": [
    "import os\n",
    "import pickle\n",
    "\n",
    "import numpy as np\n",
    "\n",
    "folder = \"/home/daniele/Desktop/visiting_bcn/data/embeddings_consistent\""
   ]
  },
  {
   "cell_type": "code",
   "execution_count": 8,
   "metadata": {},
   "outputs": [],
   "source": [
    "yamnet_embeddings = {}\n",
    "for dataset in [\"sons_al_balco_2020\", \"sons_al_balco_2021\", \"sabadell\", \"granollers\"]:\n",
    "    # load yamnet embeddings and labels with pickle\n",
    "    with open(os.path.join(folder, \"yamnet\", dataset, \"embeddings.pkl\"), \"rb\") as f:\n",
    "        yamnet_embeddings[dataset] = pickle.load(f) "
   ]
  },
  {
   "cell_type": "code",
   "execution_count": 9,
   "metadata": {},
   "outputs": [
    {
     "name": "stdout",
     "output_type": "stream",
     "text": [
      "sons_al_balco_2020 114 (50, 1024)\n",
      "sons_al_balco_2021 125 (61, 1024)\n",
      "sabadell 165 (32, 1024)\n",
      "granollers 64 (37, 1024)\n"
     ]
    }
   ],
   "source": [
    "for k, v in yamnet_embeddings.items():\n",
    "    print(k, len(v), v[0].shape)"
   ]
  },
  {
   "cell_type": "code",
   "execution_count": 10,
   "metadata": {},
   "outputs": [
    {
     "data": {
      "text/plain": [
       "(114, 16, 125, 16)"
      ]
     },
     "execution_count": 10,
     "metadata": {},
     "output_type": "execute_result"
    }
   ],
   "source": [
    "with open(os.path.join(folder, \"labels_2020.pkl\"), \"rb\") as f:\n",
    "    labels_2020 = pickle.load(f)\n",
    "with open(os.path.join(folder, \"labels_2021.pkl\"), \"rb\") as f:\n",
    "    labels_2021 = pickle.load(f)\n",
    "\n",
    "len(labels_2020), len(labels_2020[0]), len(labels_2021), len(labels_2021[0])"
   ]
  },
  {
   "cell_type": "code",
   "execution_count": 16,
   "metadata": {},
   "outputs": [
    {
     "data": {
      "text/plain": [
       "{1, 4, 5, 6, 8, 10, 11, 12, 13, 14, 15, 16, 17, 18, 19, 21, 23, 26, 33, 34}"
      ]
     },
     "execution_count": 16,
     "metadata": {},
     "output_type": "execute_result"
    }
   ],
   "source": [
    "set([len(el) for el in labels_2020])"
   ]
  },
  {
   "cell_type": "code",
   "execution_count": 18,
   "metadata": {},
   "outputs": [
    {
     "data": {
      "text/plain": [
       "{(3, 61),\n",
       " (5, 61),\n",
       " (7, 61),\n",
       " (8, 61),\n",
       " (10, 61),\n",
       " (11, 61),\n",
       " (12, 61),\n",
       " (13, 61),\n",
       " (14, 61),\n",
       " (15, 61),\n",
       " (16, 61),\n",
       " (17, 61),\n",
       " (18, 61),\n",
       " (19, 61),\n",
       " (20, 61),\n",
       " (21, 61),\n",
       " (22, 61),\n",
       " (25, 61),\n",
       " (26, 61),\n",
       " (31, 61),\n",
       " (32, 61),\n",
       " (34, 61),\n",
       " (44, 61)}"
      ]
     },
     "execution_count": 18,
     "metadata": {},
     "output_type": "execute_result"
    }
   ],
   "source": [
    "set([(len(el1), el2.shape[0]) for el1, el2 in zip(labels_2021, yamnet_embeddings[\"sons_al_balco_2021\"])])"
   ]
  },
  {
   "cell_type": "code",
   "execution_count": null,
   "metadata": {},
   "outputs": [],
   "source": []
  }
 ],
 "metadata": {
  "kernelspec": {
   "display_name": "bcn_venv",
   "language": "python",
   "name": "python3"
  },
  "language_info": {
   "codemirror_mode": {
    "name": "ipython",
    "version": 3
   },
   "file_extension": ".py",
   "mimetype": "text/x-python",
   "name": "python",
   "nbconvert_exporter": "python",
   "pygments_lexer": "ipython3",
   "version": "3.10.12"
  }
 },
 "nbformat": 4,
 "nbformat_minor": 2
}
