{
 "cells": [
  {
   "cell_type": "code",
   "execution_count": 1,
   "metadata": {},
   "outputs": [],
   "source": [
    "import os\n",
    "\n",
    "import numpy as np"
   ]
  },
  {
   "cell_type": "code",
   "execution_count": 2,
   "metadata": {},
   "outputs": [],
   "source": [
    "def load_embedding(folder, model) -> list[np.ndarray]:\n",
    "    if model == \"birdnet\":\n",
    "        # in this case the embedding is a text file for each audio\n",
    "        # the file is start_time \\t end_time \\t embedding \\n\n",
    "        # embedding is comma separated float values\n",
    "        # frames are 3s long (possibly configurable)\n",
    "        embeddings = []\n",
    "        for filename in sorted(os.listdir(folder)):\n",
    "            with open(os.path.join(folder, filename), \"r\") as f:\n",
    "                lines = f.readlines()\n",
    "            # first two els are start and end time\n",
    "            embedding = np.array([list(map(float, line.split(\"\\t\")[2].split(\",\"))) for line in lines])\n",
    "            embeddings.append(embedding)\n",
    "        return embeddings\n",
    "    if model == \"yamnet\":\n",
    "        # in this case the embedding is a numpy array \n",
    "        # (n_audios=64, max_n_frames=148, embedding_dim=1024)\n",
    "        # the padding value is 0, the frames are every 0.48 (probably)\n",
    "        filename = os.listdir(folder)[0]\n",
    "        embedding = np.load(os.path.join(folder, filename))\n",
    "        return [emb for emb in embedding]\n",
    "    if model == \"perch\":\n",
    "        pass\n",
    "    else:\n",
    "        raise ValueError(f\"Unknown pretrained model {model}\")"
   ]
  },
  {
   "cell_type": "code",
   "execution_count": 3,
   "metadata": {},
   "outputs": [
    {
     "data": {
      "text/plain": [
       "(64, (148, 1024))"
      ]
     },
     "execution_count": 3,
     "metadata": {},
     "output_type": "execute_result"
    }
   ],
   "source": [
    "l1 = load_embedding(\"data/embeddings/yamnet/granollers\", \"yamnet\")\n",
    "len(l1), l1[0].shape"
   ]
  },
  {
   "cell_type": "code",
   "execution_count": 4,
   "metadata": {},
   "outputs": [
    {
     "data": {
      "text/plain": [
       "(64, (8, 1024))"
      ]
     },
     "execution_count": 4,
     "metadata": {},
     "output_type": "execute_result"
    }
   ],
   "source": [
    "l2 = load_embedding(\"data/embeddings/birdnet/granollers\", \"birdnet\")\n",
    "len(l2), l2[0].shape"
   ]
  },
  {
   "cell_type": "code",
   "execution_count": 7,
   "metadata": {},
   "outputs": [],
   "source": [
    "embeddings_folder = \"data/embeddings\"\n",
    "\n",
    "emebddings_models = [\"birdnet\", \"yamnet\"] #, \"perch\"]\n",
    "datasets = [\"granollers\", \"sabadell\", \"sons_al_balco_2020\", \"sons_al_balco_2021\"]\n",
    "\n",
    "embeddings = {}\n",
    "for model in emebddings_models:\n",
    "    for dataset in datasets:\n",
    "        folder = os.path.join(embeddings_folder, model, dataset)\n",
    "        embedding = load_embedding(folder, model)\n",
    "        embeddings[(model, dataset)] = embedding"
   ]
  },
  {
   "cell_type": "code",
   "execution_count": 10,
   "metadata": {},
   "outputs": [
    {
     "data": {
      "text/plain": [
       "dict_keys([('birdnet', 'granollers'), ('birdnet', 'sabadell'), ('birdnet', 'sons_al_balco_2020'), ('birdnet', 'sons_al_balco_2021'), ('yamnet', 'granollers'), ('yamnet', 'sabadell'), ('yamnet', 'sons_al_balco_2020'), ('yamnet', 'sons_al_balco_2021')])"
      ]
     },
     "execution_count": 10,
     "metadata": {},
     "output_type": "execute_result"
    }
   ],
   "source": [
    "embeddings.keys()"
   ]
  },
  {
   "cell_type": "code",
   "execution_count": null,
   "metadata": {},
   "outputs": [],
   "source": [
    "from utils import create_frame_labels\n",
    "\n",
    "labels_2020 = create_frame_labels(labels_filename=os.path.join(\"data\", \"sons_al_balco_labels\", \"SAB-AudioTagging-2020.json\"))   \n",
    "labels_2021 = create_frame_labels(labels_filename=os.path.join(\"data\", \"sons_al_balco_labels\", \"SAB-AudioTagging-2021.json\"))\n",
    "# dictionaries {filename: {n_frame: list of labels}}\n",
    "\n",
    "labels_2020"
   ]
  },
  {
   "cell_type": "markdown",
   "metadata": {},
   "source": [
    "Let's plot different embeddings (with different dimensionality reduction methods)"
   ]
  },
  {
   "cell_type": "code",
   "execution_count": null,
   "metadata": {},
   "outputs": [],
   "source": [
    "from sklearn.decomposition import PCA\n",
    "from sklearn.manifold import TSNE\n",
    "\n",
    "# for tsne, first reduce n_dimension to 50 using PCA (suggested by sklearn)\n",
    "pca = PCA(n_components=50)\n",
    "pca_yamnet_sob_2020 = pca.fit_transform(np.stack(embeddings[(\"yamnet\", \"sons_al_balco_2020\")]).reshape(-1, 1024))\n",
    "pca_yamnet_sob_2021 = pca.fit_transform(np.stack(embeddings[(\"yamnet\", \"sons_al_balco_2021\")]).reshape(-1, 1024))\n",
    "\n",
    "tsne = TSNE(n_components=2)\n",
    "bidim_sob_2020 = tsne.fit_transform(pca_yamnet_sob_2020)\n",
    "bidim_sob_2021 = tsne.fit_transform(pca_yamnet_sob_2021)\n",
    "\n",
    "bidim_sob_2020.shape, bidim_sob_2021.shape"
   ]
  }
 ],
 "metadata": {
  "kernelspec": {
   "display_name": "bcn_venv",
   "language": "python",
   "name": "python3"
  },
  "language_info": {
   "codemirror_mode": {
    "name": "ipython",
    "version": 3
   },
   "file_extension": ".py",
   "mimetype": "text/x-python",
   "name": "python",
   "nbconvert_exporter": "python",
   "pygments_lexer": "ipython3",
   "version": "3.10.12"
  }
 },
 "nbformat": 4,
 "nbformat_minor": 2
}
