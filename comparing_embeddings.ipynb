{
 "cells": [
  {
   "cell_type": "code",
   "execution_count": 2,
   "metadata": {},
   "outputs": [],
   "source": [
    "import os\n",
    "\n",
    "import numpy as np\n",
    "\n",
    "from perch.chirp.inference import tf_examples"
   ]
  },
  {
   "cell_type": "code",
   "execution_count": 3,
   "metadata": {},
   "outputs": [],
   "source": [
    "def load_embedding(folder, model):\n",
    "    if model == \"birdnet\":\n",
    "        # in this case the embedding is a text file for each audio\n",
    "        # the file is start_time \\t end_time \\t embedding \\n\n",
    "        # embedding is comma separated float values\n",
    "        # frames are 3s long (possibly configurable)\n",
    "        pass\n",
    "    if model == \"yamnet\":\n",
    "        # in this case the embedding is a numpy array \n",
    "        # (n_audios=64, max_n_frames=148, embedding_dim=1024)\n",
    "        # the padding value is 0, the frames are every 0.48 (probably)\n",
    "        filename = os.listdir(folder)[0]\n",
    "        embedding = np.load(os.path.join(folder, filename))\n",
    "        return embedding"
   ]
  },
  {
   "cell_type": "code",
   "execution_count": 5,
   "metadata": {},
   "outputs": [
    {
     "data": {
      "text/plain": [
       "(64, 148, 1024)"
      ]
     },
     "execution_count": 5,
     "metadata": {},
     "output_type": "execute_result"
    }
   ],
   "source": [
    "load_embedding(\"data/embeddings/birdnet/granollers\", \"birdnet\")"
   ]
  },
  {
   "cell_type": "code",
   "execution_count": null,
   "metadata": {},
   "outputs": [],
   "source": [
    "embeddings_folder = \"data/embeddings\"\n",
    "\n",
    "emebddings_models = [\"birdnet\", \"perch\", \"yamnet\"]\n",
    "datasets = [\"granollers\", \"sabadell\", \"sons_al_balco_2020\", \"sons_al_balco_2021\"]\n",
    "\n",
    "embeddigs = {}\n",
    "for model in emebddings_models:\n",
    "    for dataset in datasets:\n",
    "        folder = os.path.join(embeddings_folder, model, dataset)\n",
    "        embedding = load_embedding(folder, model)"
   ]
  }
 ],
 "metadata": {
  "kernelspec": {
   "display_name": "bcn_venv",
   "language": "python",
   "name": "python3"
  },
  "language_info": {
   "codemirror_mode": {
    "name": "ipython",
    "version": 3
   },
   "file_extension": ".py",
   "mimetype": "text/x-python",
   "name": "python",
   "nbconvert_exporter": "python",
   "pygments_lexer": "ipython3",
   "version": "3.10.12"
  }
 },
 "nbformat": 4,
 "nbformat_minor": 2
}
